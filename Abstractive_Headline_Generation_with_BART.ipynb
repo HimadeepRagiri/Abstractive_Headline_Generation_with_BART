{
  "nbformat": 4,
  "nbformat_minor": 0,
  "metadata": {
    "colab": {
      "provenance": [],
      "gpuType": "T4"
    },
    "kernelspec": {
      "name": "python3",
      "display_name": "Python 3"
    },
    "language_info": {
      "name": "python"
    },
    "accelerator": "GPU"
  },
  "cells": [
    {
      "cell_type": "code",
      "source": [
        "# Imports\n",
        "import re\n",
        "import numpy as np\n",
        "import matplotlib.pyplot as plt\n",
        "from datasets import load_dataset\n",
        "from torch.utils.data import Dataset, DataLoader\n",
        "import torch\n",
        "from transformers import BartForConditionalGeneration, BartTokenizer, Trainer, TrainingArguments, DataCollatorForSeq2Seq\n",
        "from peft import get_peft_model, LoraConfig, TaskType\n"
      ],
      "metadata": {
        "id": "14T2XV_2BvDD"
      },
      "execution_count": 1,
      "outputs": []
    },
    {
      "cell_type": "code",
      "source": [
        "# Configuration Class\n",
        "class Config:\n",
        "    \"\"\"\n",
        "    Configuration class containing all tunable hyperparameters and settings.\n",
        "    \"\"\"\n",
        "    DATASET_NAME = \"cnn_dailymail\"\n",
        "    DATASET_VERSION = \"3.0.0\"\n",
        "    SAMPLE_SIZE = 10000         # Use a subset (10K samples)\n",
        "    MAX_INPUT_LENGTH = 512      # Maximum token length for articles\n",
        "    MAX_TARGET_LENGTH = 64      # Maximum token length for headlines\n",
        "    BATCH_SIZE = 8              # Batch size for DataLoader\n",
        "    NUM_WORKERS = 2             # Number of workers for DataLoader\n",
        "    LEARNING_RATE = 3e-4        # Learning Rate\n",
        "    TRAIN_EPOCHS = 3            # Number of Epochs for training\n",
        "\n",
        "    # paths\n",
        "    output_dir = './results'\n",
        "\n",
        "# Instantiate the configuration\n",
        "config = Config()\n"
      ],
      "metadata": {
        "id": "h8UJhhUtnTta"
      },
      "execution_count": 2,
      "outputs": []
    },
    {
      "cell_type": "code",
      "source": [
        "# Data Loading & Analysis\n",
        "# Load the CNN/DailyMail dataset using Hugging Face's datasets library.\n",
        "print(\"Loading dataset...\")\n",
        "dataset = load_dataset(Config.DATASET_NAME, Config.DATASET_VERSION)\n",
        "\n",
        "# Print dataset splits and sizes\n",
        "print(\"Dataset splits and sizes:\")\n",
        "for split in dataset.keys():\n",
        "    print(f\"{split} split has {len(dataset[split])} samples.\")\n"
      ],
      "metadata": {
        "colab": {
          "base_uri": "https://localhost:8080/"
        },
        "id": "83cwdCZEnjg5",
        "outputId": "9f944245-6875-43c9-f243-f085ffabe74a"
      },
      "execution_count": 3,
      "outputs": [
        {
          "output_type": "stream",
          "name": "stdout",
          "text": [
            "Loading dataset...\n"
          ]
        },
        {
          "output_type": "stream",
          "name": "stderr",
          "text": [
            "/usr/local/lib/python3.11/dist-packages/huggingface_hub/utils/_auth.py:94: UserWarning: \n",
            "The secret `HF_TOKEN` does not exist in your Colab secrets.\n",
            "To authenticate with the Hugging Face Hub, create a token in your settings tab (https://huggingface.co/settings/tokens), set it as secret in your Google Colab and restart your session.\n",
            "You will be able to reuse this secret in all of your notebooks.\n",
            "Please note that authentication is recommended but still optional to access public models or datasets.\n",
            "  warnings.warn(\n"
          ]
        },
        {
          "output_type": "stream",
          "name": "stdout",
          "text": [
            "Dataset splits and sizes:\n",
            "train split has 287113 samples.\n",
            "validation split has 13368 samples.\n",
            "test split has 11490 samples.\n"
          ]
        }
      ]
    },
    {
      "cell_type": "code",
      "source": [
        "# For analysis, we will work with a subset of the training data.\n",
        "train_sample = dataset['train'].select(range(min(Config.SAMPLE_SIZE, len(dataset['train']))))\n",
        "\n",
        "def analyze_dataset(split_data, split_name=\"Train\"):\n",
        "    \"\"\"\n",
        "    Analyze dataset by calculating the average number of words in articles and headlines,\n",
        "    and plotting their distributions.\n",
        "    \"\"\"\n",
        "    # Compute word lengths for articles and headlines\n",
        "    article_lengths = [len(item['article'].split()) for item in split_data]\n",
        "    headline_lengths = [len(item['highlights'].split()) for item in split_data]\n",
        "\n",
        "    print(f\"\\n{split_name} Data Analysis:\")\n",
        "    print(f\"Number of samples: {len(split_data)}\")\n",
        "    print(f\"Average article length (words): {np.mean(article_lengths):.2f}\")\n",
        "    print(f\"Average headline length (words): {np.mean(headline_lengths):.2f}\")\n",
        "\n",
        "    # Plot distributions of article and headline lengths\n",
        "    plt.figure(figsize=(12, 5))\n",
        "    plt.subplot(1, 2, 1)\n",
        "    plt.hist(article_lengths, bins=50, color='skyblue')\n",
        "    plt.title(f\"{split_name} Article Length Distribution\")\n",
        "    plt.xlabel(\"Number of Words\")\n",
        "    plt.ylabel(\"Frequency\")\n",
        "\n",
        "    plt.subplot(1, 2, 2)\n",
        "    plt.hist(headline_lengths, bins=50, color='salmon')\n",
        "    plt.title(f\"{split_name} Headline Length Distribution\")\n",
        "    plt.xlabel(\"Number of Words\")\n",
        "    plt.ylabel(\"Frequency\")\n",
        "\n",
        "    plt.tight_layout()\n",
        "    plt.show()\n",
        "\n",
        "# Analyze the training sample\n",
        "analyze_dataset(train_sample, \"Train Sample\")\n",
        "\n",
        "# Print a few sample examples for manual inspection\n",
        "print(\"\\nSample Data:\")\n",
        "for i in range(3):\n",
        "    print(f\"\\nSample {i+1}:\")\n",
        "    print(\"Article snippet:\", train_sample[i]['article'][:200], \"...\")\n",
        "    print(\"Headline:\", train_sample[i]['highlights'])\n",
        "    print(\"-----\")\n"
      ],
      "metadata": {
        "colab": {
          "base_uri": "https://localhost:8080/",
          "height": 1000
        },
        "id": "e-K5GDA6sVrs",
        "outputId": "a852b5f1-aa48-4b24-f505-a661de0ae802"
      },
      "execution_count": 4,
      "outputs": [
        {
          "output_type": "stream",
          "name": "stdout",
          "text": [
            "\n",
            "Train Sample Data Analysis:\n",
            "Number of samples: 10000\n",
            "Average article length (words): 620.28\n",
            "Average headline length (words): 44.63\n"
          ]
        },
        {
          "output_type": "display_data",
          "data": {
            "text/plain": [
              "<Figure size 1200x500 with 2 Axes>"
            ],
            "image/png": "[encoded data removed]"
          },
          "metadata": {}
        },
        {
          "output_type": "stream",
          "name": "stdout",
          "text": [
            "\n",
            "Sample Data:\n",
            "\n",
            "Sample 1:\n",
            "Article snippet: LONDON, England (Reuters) -- Harry Potter star Daniel Radcliffe gains access to a reported £20 million ($41.1 million) fortune as he turns 18 on Monday, but he insists the money won't cast a spell on  ...\n",
            "Headline: Harry Potter star Daniel Radcliffe gets £20M fortune as he turns 18 Monday .\n",
            "Young actor says he has no plans to fritter his cash away .\n",
            "Radcliffe's earnings from first five Potter films have been held in trust fund .\n",
            "-----\n",
            "\n",
            "Sample 2:\n",
            "Article snippet: Editor's note: In our Behind the Scenes series, CNN correspondents share their experiences in covering news and analyze the stories behind the events. Here, Soledad O'Brien takes users inside a jail w ...\n",
            "Headline: Mentally ill inmates in Miami are housed on the \"forgotten floor\"\n",
            "Judge Steven Leifman says most are there as a result of \"avoidable felonies\"\n",
            "While CNN tours facility, patient shouts: \"I am the son of the president\"\n",
            "Leifman says the system is unjust and he's fighting for change .\n",
            "-----\n",
            "\n",
            "Sample 3:\n",
            "Article snippet: MINNEAPOLIS, Minnesota (CNN) -- Drivers who were on the Minneapolis bridge when it collapsed told harrowing tales of survival. \"The whole bridge from one side of the Mississippi to the other just comp ...\n",
            "Headline: NEW: \"I thought I was going to die,\" driver says .\n",
            "Man says pickup truck was folded in half; he just has cut on face .\n",
            "Driver: \"I probably had a 30-, 35-foot free fall\"\n",
            "Minnesota bridge collapsed during rush hour Wednesday .\n",
            "-----\n"
          ]
        }
      ]
    },
    {
      "cell_type": "code",
      "source": [
        "# Preprocessing\n",
        "def clean_text(text):\n",
        "    \"\"\"\n",
        "    Basic text cleaning function:\n",
        "    - Strips whitespace from the ends.\n",
        "    - Replaces multiple spaces/newlines with a single space.\n",
        "    \"\"\"\n",
        "    text = text.strip()\n",
        "    text = re.sub(r'\\s+', ' ', text)\n",
        "    return text\n",
        "\n",
        "def preprocess_function(example):\n",
        "    \"\"\"\n",
        "    Preprocess a single example by cleaning both the article and the headline.\n",
        "    \"\"\"\n",
        "    example['article'] = clean_text(example['article'])\n",
        "    example['highlights'] = clean_text(example['highlights'])\n",
        "    return example\n",
        "\n",
        "# Apply preprocessing to the training sample.\n",
        "# (Using map() is efficient and leverages multi-threading if available.)\n",
        "print(\"\\nApplying preprocessing to the training sample...\")\n",
        "train_sample = train_sample.map(preprocess_function)\n",
        "\n",
        "# Check cleaned data on a sample\n",
        "print(\"\\nPost-Preprocessing Sample:\")\n",
        "print(\"Article snippet:\", train_sample[0]['article'][:200], \"...\")\n",
        "print(\"Headline:\", train_sample[0]['highlights'])\n"
      ],
      "metadata": {
        "colab": {
          "base_uri": "https://localhost:8080/"
        },
        "id": "D8BWotWcoHyB",
        "outputId": "922f2326-5237-4c52-ac2a-a5c3fb0d929f"
      },
      "execution_count": 5,
      "outputs": [
        {
          "output_type": "stream",
          "name": "stdout",
          "text": [
            "\n",
            "Applying preprocessing to the training sample...\n",
            "\n",
            "Post-Preprocessing Sample:\n",
            "Article snippet: LONDON, England (Reuters) -- Harry Potter star Daniel Radcliffe gains access to a reported £20 million ($41.1 million) fortune as he turns 18 on Monday, but he insists the money won't cast a spell on  ...\n",
            "Headline: Harry Potter star Daniel Radcliffe gets £20M fortune as he turns 18 Monday . Young actor says he has no plans to fritter his cash away . Radcliffe's earnings from first five Potter films have been held in trust fund .\n"
          ]
        }
      ]
    },
    {
      "cell_type": "code",
      "source": [
        "# Dataset/Dataloader\n",
        "class CNNDailyMailDataset(Dataset):\n",
        "    \"\"\"\n",
        "    Custom PyTorch Dataset to wrap the preprocessed CNN/DailyMail data.\n",
        "    Each item is a dictionary containing an 'article' and its corresponding 'headline'.\n",
        "    \"\"\"\n",
        "    def __init__(self, hf_dataset):\n",
        "        self.dataset = hf_dataset\n",
        "\n",
        "    def __len__(self):\n",
        "        return len(self.dataset)\n",
        "\n",
        "    def __getitem__(self, idx):\n",
        "        # Return a dictionary with the input article and target headline.\n",
        "        item = self.dataset[idx]\n",
        "        return {\"article\": item['article'], \"headline\": item['highlights']}\n",
        "\n",
        "# Instantiate the PyTorch dataset using the training sample\n",
        "train_data = CNNDailyMailDataset(train_sample)\n",
        "\n",
        "# Create a DataLoader for the training data.\n",
        "train_dataloader = DataLoader(\n",
        "    train_data,\n",
        "    batch_size=Config.BATCH_SIZE,\n",
        "    shuffle=True,\n",
        "    num_workers=Config.NUM_WORKERS\n",
        ")\n",
        "\n",
        "# Verify DataLoader output by fetching one batch.\n",
        "batch = next(iter(train_dataloader))\n",
        "print(\"\\nDataLoader Batch Sample:\")\n",
        "print(\"Articles (first 2):\", batch[\"article\"][:2])\n",
        "print(\"Headlines (first 2):\", batch[\"headline\"][:2])\n"
      ],
      "metadata": {
        "colab": {
          "base_uri": "https://localhost:8080/"
        },
        "id": "uvLhxz4Am-KL",
        "outputId": "737df731-47e9-4df7-de0f-de58f33dbf35"
      },
      "execution_count": 6,
      "outputs": [
        {
          "output_type": "stream",
          "name": "stdout",
          "text": [
            "\n",
            "DataLoader Batch Sample:\n",
            "Articles (first 2): ['(CNN) -- The American Psychological Association concluded Wednesday that there is little evidence that efforts to change a person\\'s sexual orientation from gay or lesbian to heterosexual are effective. The report looks at 87 studies conducted between 1960 and 2007. In addition, the 138-page report -- covering 87 peer-reviewed studies -- said that such efforts may cause harm. \"Contrary to claims of sexual orientation change advocates and practitioners, there is insufficient evidence to support the use of psychological interventions to change sexual orientation,\" said Judith M. Glassgold, chairwoman of the task force that presented the report at the group\\'s annual meeting in Toronto, Canada. The Washington-based association represents more than 150,000 members. \"At most, certain studies suggested that some individuals learned how to ignore or not act on their homosexual attractions. Yet, these studies did not indicate for whom this was possible, how long it lasted or its long-term mental health effects. Also, this result was much less likely to be true for people who started out only attracted to people of the same sex.\" In response, the group\\'s governing Council of Representatives passed a resolution Wednesday urging mental health professionals not to recommend to their clients that they can change their sexual orientation through therapy or any other methods. The group\\'s Task Force on Appropriate Therapeutic Responses to Sexual Orientation reached its conclusion after its review of 87 studies conducted between 1960 and 2007 and finding \"serious methodological problems\" in the vast majority of them. Those few studies that did have \"high-quality\" evidence \"show that enduring change to an individual\\'s sexual orientation is uncommon,\" it said. In addition, the report cited evidence that efforts to switch a person\\'s sexual orientation through aversive treatments might cause harm, including loss of sexual feeling, suicidality, depression and anxiety. Many who tried to change and failed \"described their experiences as a significant cause of emotional and spiritual distress and negative self-image,\" it said. The six-member task force was appointed two years ago to address concerns about \"efforts to promote the notion that sexual orientation can be changed through psychotherapy or approaches that mischaracterize homosexuality as a mental disorder.\" The American Psychiatric Association removed homosexuality from its Diagnostic and Statistical Manual of Mental Disorders in 1975. The task force noted that some people attempt to change their sexual orientation because it conflicts with their religious beliefs, and recommended that their mental health care providers help them \"explore possible life paths that address the reality of their sexual orientation, reduce the stigma associated with homosexuality, respect the client\\'s religious beliefs, and consider possibilities for a religiously and spiritually meaningful and rewarding life.\" \"In other words,\" said Glassgold, \"we recommend that psychologists be completely honest about the likelihood of sexual orientation change, and that they help clients explore their assumptions and goals with respect to both religion and sexuality.\" Alan Chambers, president of Exodus International, a network of more than 250 ministries that he said \"reach out to men and women and families that are affected by what we call \\'unwanted same-sex attraction\\'\" disagrees. He offered himself as proof that such efforts can work. \"The fact is that there are tens of thousands of men and women just like me who once identified as gay,\" Chambers said in a telephone interview. \"For me and for these people, the truth is change is possible.\" Chambers said his transformation from gay man began more than 18 years ago, when he attended a support group at the organization he now leads. Chambers, who said he married a woman nearly 12 years ago, has written a book, \"Leaving Homosexuality,\" which was published last month. \"You can\\'t refute a personal story,\" he said, adding that about a third of those who try to switch their sexual orientation through the group\\'s ministries wind up doing so. \"We\\'re not talking a light switch that you turn on and off, we\\'re talking about very deep and complex issues that, I think, take years to resolve.\" Though all mainstream health and mental health organizations concluded years ago that homosexuality is not a mental disorder, the American Psychological Association formed the task force to work on the report two years ago after noting a resurgence of groups that identified homosexuality as a defect or spiritual or moral failing.', '(CNN) -- A Florida man arrested with his wife on anabolic steroid possession charges claimed to have sold steroids to professional hockey and baseball players in the District of Columbia, but the National Hockey League and Washington Capitals said Wednesday they doubted the allegation. Richard Thomas and his wife, Sandra, were arrested Tuesday night at their home in Lakeland, Florida. Richard Thomas, 35, told officers he sold the steroids to unidentified players on the NHL\\'s Capitals and the Washington Nationals of baseball\\'s National League, said Sheriff Grady Judd of Polk County, Florida. \"Richard Thomas told us that he sold steroids to ballplayers on those teams,\" Judd said after the arrests late Tuesday night. \"Now, is that one ballplayer to two ballplayers? We don\\'t know.\" NHL Deputy Commissioner Bill Daly said the league would investigate the claim, but added that the Washington Capitals \"have no knowledge of any aspect of this allegation.\" \"Capitals players were subjected to no-notice testing five separate times over the past two seasons pursuant to the terms of the Collective Bargaining Agreement and there was no indication of any improper conduct or wrongdoing,\" Daly said in a statement issued Wednesday. A separate statement by Capitals president Dick Patrick said the team had \"no reason to believe there is any merit to this story,\" but would fully cooperate with the NHL\\'s investigation. MLB.com, the Web site of Major League Baseball, reported Wednesday that the league would look into the allegation involving the Washington Nationals. The report posted on the Web site of the Washington Nationals quoted Nationals president Stan Kasten as saying the team knew nothing about the steroids claim, and that the league was handling it. Thomas and his wife, Sandra, 49, were arrested Tuesday night at their home in Lakeland, Florida, on 21 counts of possession of anabolic steroids, importation of anabolic steroids and maintaining a residence for drug sales, Judd said. He said the couple has been charged with 10 counts of steroid possession with intent to distribute, 10 counts of importing the drugs and one count of maintaining a residence for drug sales. According to Judd, U.S. Immigration and Customs Enforcement officials in Philadelphia received information that the Florida couple would be receiving a shipment of steroids. Judd\\'s office then obtained a search warrant for the Lakeland home, where officers found steroids from points outside the United States, including Iran, he said. The arrest report says Richard Thomas told officers he was \"the biggest steroids dealer in central Florida.\" Bond for Richard and Sandra Thomas was set at $215,000 each, said Carrie Eleazer, spokeswoman for the Polk County Sheriff\\'s Office, and Sandra Thomas was released on bail Wednesday afternoon. The two are scheduled to make an initial court appearance Thursday. CNN\\'s John Couwels contributed to this report.']\n",
            "Headlines (first 2): ['American Psychological Association: Trying to change orientation can be harmful . Group urges mental health professionals not to advocate changing orientation . Homosexuality de-listed as mental disorder in \\'75, but some programs still treat it . Official with one such program says, \"Change is possible\"', 'Couple arrested in central Florida on anabolic steroid possession charges . Claim they sold steroids to professional athletes in District of Columbia, sheriff says . Richard Thomas says he sold steroids to pro baseball, hockey players, sheriff says .']\n"
          ]
        }
      ]
    },
    {
      "cell_type": "code",
      "source": [
        "# Model Setup\n",
        "\n",
        "# Use BART-base\n",
        "model_name = \"facebook/bart-base\"\n",
        "tokenizer = BartTokenizer.from_pretrained(model_name)\n",
        "model = BartForConditionalGeneration.from_pretrained(model_name)\n",
        "\n",
        "# Set up PEFT (LoRA configuration) to reduce trainable parameters\n",
        "lora_config = LoraConfig(\n",
        "    task_type=TaskType.SEQ_2_SEQ_LM,  # Task type for seq2seq\n",
        "    r=8,                            # Low-rank decomposition dimension\n",
        "    lora_alpha=32,                  # Scaling factor\n",
        "    lora_dropout=0.1                # Dropout rate for LoRA layers\n",
        ")\n",
        "model = get_peft_model(model, lora_config)\n",
        "\n",
        "# Print number of trainable vs total parameters to verify PEFT is applied\n",
        "trainable_params = sum(p.numel() for p in model.parameters() if p.requires_grad)\n",
        "total_params = sum(p.numel() for p in model.parameters())\n",
        "print(\"Trainable parameters:\", trainable_params)\n",
        "print(\"Total parameters:\", total_params)\n"
      ],
      "metadata": {
        "colab": {
          "base_uri": "https://localhost:8080/"
        },
        "id": "tmeeca2guqwd",
        "outputId": "c305311d-c84e-425f-f4fb-90d92940bce5"
      },
      "execution_count": 7,
      "outputs": [
        {
          "output_type": "stream",
          "name": "stdout",
          "text": [
            "Trainable parameters: 442368\n",
            "Total parameters: 139862784\n"
          ]
        }
      ]
    },
    {
      "cell_type": "code",
      "source": [
        "# Training Preparation: Tokenization & Data Collation\n",
        "\n",
        "# Define tokenization function for our dataset (articles as inputs and headlines as targets)\n",
        "def tokenize_function(example):\n",
        "    # Tokenize the input article\n",
        "    model_inputs = tokenizer(example['article'],\n",
        "                             max_length=Config.MAX_INPUT_LENGTH,\n",
        "                             truncation=True)\n",
        "    # Tokenize the target headline\n",
        "    with tokenizer.as_target_tokenizer():\n",
        "        labels = tokenizer(example['highlights'],\n",
        "                           max_length=Config.MAX_TARGET_LENGTH,\n",
        "                           truncation=True)\n",
        "    model_inputs[\"labels\"] = labels[\"input_ids\"]\n",
        "    return model_inputs\n",
        "\n",
        "print(\"Tokenizing training dataset...\")\n",
        "train_tokenized = train_sample.map(tokenize_function, batched=True, remove_columns=[\"article\", \"highlights\"])\n",
        "\n",
        "# For validation, use a smaller subset\n",
        "print(\"Preparing and tokenizing validation dataset...\")\n",
        "val_sample = dataset['validation'].select(range(min(1000, len(dataset['validation']))))\n",
        "val_sample = val_sample.map(preprocess_function)\n",
        "val_tokenized = val_sample.map(tokenize_function, batched=True, remove_columns=[\"article\", \"highlights\"])\n",
        "\n",
        "# Set format for PyTorch tensors\n",
        "train_tokenized.set_format(type=\"torch\")\n",
        "val_tokenized.set_format(type=\"torch\")\n",
        "\n",
        "# Create a data collator that dynamically pads inputs\n",
        "data_collator = DataCollatorForSeq2Seq(tokenizer, model=model)\n"
      ],
      "metadata": {
        "colab": {
          "base_uri": "https://localhost:8080/"
        },
        "id": "vOMmEDlB5y1E",
        "outputId": "f4f94c54-e4e4-44d9-f7d7-702a73a0697f"
      },
      "execution_count": 8,
      "outputs": [
        {
          "output_type": "stream",
          "name": "stdout",
          "text": [
            "Tokenizing training dataset...\n",
            "Preparing and tokenizing validation dataset...\n"
          ]
        }
      ]
    },
    {
      "cell_type": "code",
      "source": [
        "# Training & Evaluation Setup\n",
        "\n",
        "# Define training arguments (with mixed precision to help reduce memory usage)\n",
        "training_args = TrainingArguments(\n",
        "    output_dir=Config.output_dir,\n",
        "    per_device_train_batch_size=Config.BATCH_SIZE,\n",
        "    evaluation_strategy=\"no\",\n",
        "    logging_steps=100,\n",
        "    learning_rate=Config.LEARNING_RATE,\n",
        "    num_train_epochs=Config.TRAIN_EPOCHS,\n",
        "    save_total_limit=1,\n",
        "    fp16=True,  # Enable mixed-precision training to save memory\n",
        ")\n",
        "\n",
        "# Initialize the Trainer with the model, datasets, and our configuration\n",
        "trainer = Trainer(\n",
        "    model=model,\n",
        "    args=training_args,\n",
        "    train_dataset=train_tokenized,\n",
        "    eval_dataset=val_tokenized,\n",
        "    data_collator=data_collator,\n",
        "    tokenizer=tokenizer,\n",
        ")\n"
      ],
      "metadata": {
        "colab": {
          "base_uri": "https://localhost:8080/"
        },
        "id": "mkrIR2uJvpky",
        "outputId": "4ffc2d4a-d54c-4b6a-d2ac-b54e95300d8b"
      },
      "execution_count": 20,
      "outputs": [
        {
          "output_type": "stream",
          "name": "stderr",
          "text": [
            "/usr/local/lib/python3.11/dist-packages/transformers/training_args.py:1575: FutureWarning: `evaluation_strategy` is deprecated and will be removed in version 4.46 of 🤗 Transformers. Use `eval_strategy` instead\n",
            "  warnings.warn(\n",
            "<ipython-input-20-3cb28a0de4e0>:16: FutureWarning: `tokenizer` is deprecated and will be removed in version 5.0.0 for `Trainer.__init__`. Use `processing_class` instead.\n",
            "  trainer = Trainer(\n"
          ]
        }
      ]
    },
    {
      "cell_type": "code",
      "source": [
        "# Training\n",
        "print(\"Starting training...\")\n",
        "trainer.train()\n"
      ],
      "metadata": {
        "id": "x2WdpXdlw53E",
        "colab": {
          "base_uri": "https://localhost:8080/",
          "height": 1000
        },
        "outputId": "8ad872e5-dc82-4475-ae2c-a7235fba59a2"
      },
      "execution_count": 12,
      "outputs": [
        {
          "output_type": "stream",
          "name": "stderr",
          "text": [
            "\u001b[34m\u001b[1mwandb\u001b[0m: \u001b[33mWARNING\u001b[0m The `run_name` is currently set to the same value as `TrainingArguments.output_dir`. If this was not intended, please specify a different run name by setting the `TrainingArguments.run_name` parameter.\n"
          ]
        },
        {
          "output_type": "stream",
          "name": "stdout",
          "text": [
            "Starting training...\n"
          ]
        },
        {
          "output_type": "stream",
          "name": "stderr",
          "text": [
            "\u001b[34m\u001b[1mwandb\u001b[0m: Using wandb-core as the SDK backend.  Please refer to https://wandb.me/wandb-core for more information.\n",
            "\u001b[34m\u001b[1mwandb\u001b[0m: Currently logged in as: \u001b[33mbunnymesu369\u001b[0m (\u001b[33mbunnymesu369-bunny\u001b[0m) to \u001b[32mhttps://api.wandb.ai\u001b[0m. Use \u001b[1m`wandb login --relogin`\u001b[0m to force relogin\n"
          ]
        },
        {
          "output_type": "display_data",
          "data": {
            "text/plain": [
              "<IPython.core.display.HTML object>"
            ],
            "text/html": [
              "Tracking run with wandb version 0.19.7"
            ]
          },
          "metadata": {}
        },
        {
          "output_type": "display_data",
          "data": {
            "text/plain": [
              "<IPython.core.display.HTML object>"
            ],
            "text/html": [
              "Run data is saved locally in <code>/content/wandb/run-20250305_105546-twipp8ql</code>"
            ]
          },
          "metadata": {}
        },
        {
          "output_type": "display_data",
          "data": {
            "text/plain": [
              "<IPython.core.display.HTML object>"
            ],
            "text/html": [
              "Syncing run <strong><a href='https://wandb.ai/bunnymesu369-bunny/huggingface/runs/twipp8ql' target=\"_blank\">/content/drive/MyDrive/Deep_Learning_Projects/Seq2Seq/results</a></strong> to <a href='https://wandb.ai/bunnymesu369-bunny/huggingface' target=\"_blank\">Weights & Biases</a> (<a href='https://wandb.me/developer-guide' target=\"_blank\">docs</a>)<br>"
            ]
          },
          "metadata": {}
        },
        {
          "output_type": "display_data",
          "data": {
            "text/plain": [
              "<IPython.core.display.HTML object>"
            ],
            "text/html": [
              " View project at <a href='https://wandb.ai/bunnymesu369-bunny/huggingface' target=\"_blank\">https://wandb.ai/bunnymesu369-bunny/huggingface</a>"
            ]
          },
          "metadata": {}
        },
        {
          "output_type": "display_data",
          "data": {
            "text/plain": [
              "<IPython.core.display.HTML object>"
            ],
            "text/html": [
              " View run at <a href='https://wandb.ai/bunnymesu369-bunny/huggingface/runs/twipp8ql' target=\"_blank\">https://wandb.ai/bunnymesu369-bunny/huggingface/runs/twipp8ql</a>"
            ]
          },
          "metadata": {}
        },
        {
          "output_type": "stream",
          "name": "stderr",
          "text": [
            "/usr/local/lib/python3.11/dist-packages/transformers/data/data_collator.py:657: UserWarning: Creating a tensor from a list of numpy.ndarrays is extremely slow. Please consider converting the list to a single numpy.ndarray with numpy.array() before converting to a tensor. (Triggered internally at ../torch/csrc/utils/tensor_new.cpp:278.)\n",
            "  batch[\"labels\"] = torch.tensor(batch[\"labels\"], dtype=torch.int64)\n"
          ]
        },
        {
          "output_type": "display_data",
          "data": {
            "text/plain": [
              "<IPython.core.display.HTML object>"
            ],
            "text/html": [
              "\n",
              "    <div>\n",
              "      \n",
              "      <progress value='3750' max='3750' style='width:300px; height:20px; vertical-align: middle;'></progress>\n",
              "      [3750/3750 09:31, Epoch 3/3]\n",
              "    </div>\n",
              "    <table border=\"1\" class=\"dataframe\">\n",
              "  <thead>\n",
              " <tr style=\"text-align: left;\">\n",
              "      <th>Step</th>\n",
              "      <th>Training Loss</th>\n",
              "    </tr>\n",
              "  </thead>\n",
              "  <tbody>\n",
              "    <tr>\n",
              "      <td>100</td>\n",
              "      <td>3.012400</td>\n",
              "    </tr>\n",
              "    <tr>\n",
              "      <td>200</td>\n",
              "      <td>2.726300</td>\n",
              "    </tr>\n",
              "    <tr>\n",
              "      <td>300</td>\n",
              "      <td>2.658400</td>\n",
              "    </tr>\n",
              "    <tr>\n",
              "      <td>400</td>\n",
              "      <td>2.650400</td>\n",
              "    </tr>\n",
              "    <tr>\n",
              "      <td>500</td>\n",
              "      <td>2.570200</td>\n",
              "    </tr>\n",
              "    <tr>\n",
              "      <td>600</td>\n",
              "      <td>2.612200</td>\n",
              "    </tr>\n",
              "    <tr>\n",
              "      <td>700</td>\n",
              "      <td>2.560300</td>\n",
              "    </tr>\n",
              "    <tr>\n",
              "      <td>800</td>\n",
              "      <td>2.527200</td>\n",
              "    </tr>\n",
              "    <tr>\n",
              "      <td>900</td>\n",
              "      <td>2.523400</td>\n",
              "    </tr>\n",
              "    <tr>\n",
              "      <td>1000</td>\n",
              "      <td>2.503700</td>\n",
              "    </tr>\n",
              "    <tr>\n",
              "      <td>1100</td>\n",
              "      <td>2.538000</td>\n",
              "    </tr>\n",
              "    <tr>\n",
              "      <td>1200</td>\n",
              "      <td>2.523800</td>\n",
              "    </tr>\n",
              "    <tr>\n",
              "      <td>1300</td>\n",
              "      <td>2.517000</td>\n",
              "    </tr>\n",
              "    <tr>\n",
              "      <td>1400</td>\n",
              "      <td>2.491400</td>\n",
              "    </tr>\n",
              "    <tr>\n",
              "      <td>1500</td>\n",
              "      <td>2.472400</td>\n",
              "    </tr>\n",
              "    <tr>\n",
              "      <td>1600</td>\n",
              "      <td>2.450100</td>\n",
              "    </tr>\n",
              "    <tr>\n",
              "      <td>1700</td>\n",
              "      <td>2.463100</td>\n",
              "    </tr>\n",
              "    <tr>\n",
              "      <td>1800</td>\n",
              "      <td>2.443000</td>\n",
              "    </tr>\n",
              "    <tr>\n",
              "      <td>1900</td>\n",
              "      <td>2.441100</td>\n",
              "    </tr>\n",
              "    <tr>\n",
              "      <td>2000</td>\n",
              "      <td>2.502300</td>\n",
              "    </tr>\n",
              "    <tr>\n",
              "      <td>2100</td>\n",
              "      <td>2.500300</td>\n",
              "    </tr>\n",
              "    <tr>\n",
              "      <td>2200</td>\n",
              "      <td>2.465600</td>\n",
              "    </tr>\n",
              "    <tr>\n",
              "      <td>2300</td>\n",
              "      <td>2.430100</td>\n",
              "    </tr>\n",
              "    <tr>\n",
              "      <td>2400</td>\n",
              "      <td>2.396300</td>\n",
              "    </tr>\n",
              "    <tr>\n",
              "      <td>2500</td>\n",
              "      <td>2.467400</td>\n",
              "    </tr>\n",
              "    <tr>\n",
              "      <td>2600</td>\n",
              "      <td>2.402200</td>\n",
              "    </tr>\n",
              "    <tr>\n",
              "      <td>2700</td>\n",
              "      <td>2.435500</td>\n",
              "    </tr>\n",
              "    <tr>\n",
              "      <td>2800</td>\n",
              "      <td>2.453000</td>\n",
              "    </tr>\n",
              "    <tr>\n",
              "      <td>2900</td>\n",
              "      <td>2.389300</td>\n",
              "    </tr>\n",
              "    <tr>\n",
              "      <td>3000</td>\n",
              "      <td>2.418700</td>\n",
              "    </tr>\n",
              "    <tr>\n",
              "      <td>3100</td>\n",
              "      <td>2.428900</td>\n",
              "    </tr>\n",
              "    <tr>\n",
              "      <td>3200</td>\n",
              "      <td>2.375600</td>\n",
              "    </tr>\n",
              "    <tr>\n",
              "      <td>3300</td>\n",
              "      <td>2.428400</td>\n",
              "    </tr>\n",
              "    <tr>\n",
              "      <td>3400</td>\n",
              "      <td>2.451800</td>\n",
              "    </tr>\n",
              "    <tr>\n",
              "      <td>3500</td>\n",
              "      <td>2.460200</td>\n",
              "    </tr>\n",
              "    <tr>\n",
              "      <td>3600</td>\n",
              "      <td>2.398500</td>\n",
              "    </tr>\n",
              "    <tr>\n",
              "      <td>3700</td>\n",
              "      <td>2.419000</td>\n",
              "    </tr>\n",
              "  </tbody>\n",
              "</table><p>"
            ]
          },
          "metadata": {}
        },
        {
          "output_type": "execute_result",
          "data": {
            "text/plain": [
              "TrainOutput(global_step=3750, training_loss=2.498972821044922, metrics={'train_runtime': 576.5096, 'train_samples_per_second': 52.037, 'train_steps_per_second': 6.505, 'total_flos': 9186815508480000.0, 'train_loss': 2.498972821044922, 'epoch': 3.0})"
            ]
          },
          "metadata": {},
          "execution_count": 12
        }
      ]
    },
    {
      "cell_type": "code",
      "source": [
        "# Visualization: Training Loss Plot\n",
        "import pandas as pd\n",
        "import seaborn as sns\n",
        "import matplotlib.pyplot as plt\n",
        "\n",
        "# Visualize training loss if available in the Trainer's log history\n",
        "if trainer.state.log_history:\n",
        "    logs = trainer.state.log_history\n",
        "    df_logs = pd.DataFrame(logs)\n",
        "    if \"loss\" in df_logs.columns:\n",
        "        plt.figure(figsize=(10, 5))\n",
        "        sns.lineplot(data=df_logs, x=\"step\", y=\"loss\")\n",
        "        plt.title(\"Training Loss Over Steps\")\n",
        "        plt.xlabel(\"Training Steps\")\n",
        "        plt.ylabel(\"Loss\")\n",
        "        plt.show()\n",
        "    else:\n",
        "        print(\"No training loss data available for visualization.\")\n",
        "else:\n",
        "    print(\"No training log history available.\")\n"
      ],
      "metadata": {
        "id": "BNrBy-I9uMLc",
        "colab": {
          "base_uri": "https://localhost:8080/",
          "height": 487
        },
        "outputId": "31b7af77-772b-4df7-be00-1e21c7698b97"
      },
      "execution_count": 14,
      "outputs": [
        {
          "output_type": "display_data",
          "data": {
            "text/plain": [
              "<Figure size 1000x500 with 1 Axes>"
            ],
            "image/png": "[encoded data removed]"
          },
          "metadata": {}
        }
      ]
    },
    {
      "cell_type": "code",
      "source": [
        "# Evaluation\n",
        "eval_results = trainer.evaluate()\n",
        "print(\"Evaluation results:\", eval_results)\n"
      ],
      "metadata": {
        "id": "kdfaf2TWw8uc",
        "colab": {
          "base_uri": "https://localhost:8080/",
          "height": 74
        },
        "outputId": "720ca641-cb00-48bb-cbe5-247438cbd8cb"
      },
      "execution_count": 21,
      "outputs": [
        {
          "output_type": "display_data",
          "data": {
            "text/plain": [
              "<IPython.core.display.HTML object>"
            ],
            "text/html": [
              "\n",
              "    <div>\n",
              "      \n",
              "      <progress value='125' max='125' style='width:300px; height:20px; vertical-align: middle;'></progress>\n",
              "      [125/125 00:08]\n",
              "    </div>\n",
              "    "
            ]
          },
          "metadata": {}
        },
        {
          "output_type": "stream",
          "name": "stdout",
          "text": [
            "Evaluation results: {'eval_loss': 2.2758119106292725, 'eval_model_preparation_time': 0.0231, 'eval_runtime': 8.9459, 'eval_samples_per_second': 111.783, 'eval_steps_per_second': 13.973}\n"
          ]
        }
      ]
    },
    {
      "cell_type": "code",
      "source": [
        "# Inference\n",
        "def generate_headline(article_text):\n",
        "    \"\"\"\n",
        "    Generate a headline for a given article text.\n",
        "    \"\"\"\n",
        "    model.eval()  # Set model to evaluation mode\n",
        "    inputs = tokenizer(article_text,\n",
        "                       return_tensors=\"pt\",\n",
        "                       max_length=Config.MAX_INPUT_LENGTH,\n",
        "                       truncation=True).to(model.device)\n",
        "    outputs = model.generate(**inputs, max_length=Config.MAX_TARGET_LENGTH, num_beams=4, early_stopping=True)\n",
        "    headline = tokenizer.decode(outputs[0], skip_special_tokens=True)\n",
        "    return headline\n",
        "\n",
        "# Test inference on a sample article from the validation set\n",
        "sample_article = val_sample[0]['article']\n",
        "print(\"\\nSample Article (first 300 characters):\")\n",
        "print(sample_article[:300])\n",
        "print(\"\\nGenerated Headline:\")\n",
        "print(generate_headline(sample_article))\n"
      ],
      "metadata": {
        "id": "YXsF4CN_xHfm",
        "colab": {
          "base_uri": "https://localhost:8080/"
        },
        "outputId": "bf568612-178b-4777-c8e1-746470fa273d"
      },
      "execution_count": 13,
      "outputs": [
        {
          "output_type": "stream",
          "name": "stdout",
          "text": [
            "\n",
            "Sample Article (first 300 characters):\n",
            "(CNN)Share, and your gift will be multiplied. That may sound like an esoteric adage, but when Zully Broussard selflessly decided to give one of her kidneys to a stranger, her generosity paired up with big data. It resulted in six patients receiving transplants. That surprised and wowed her. \"I thoug\n",
            "\n",
            "Generated Headline:\n",
            "Data processing of genetic profiles from donor-recipient pairs takes it to a much higher level . Doctors are extracting six kidneys from donors and implanting them into six recipients . The chain of surgeries is to be wrapped up Friday .\n"
          ]
        }
      ]
    },
    {
      "cell_type": "code",
      "source": [
        "# Deployment Interface using Gradio\n",
        "import gradio as gr\n",
        "\n",
        "def gradio_generate(article_text):\n",
        "    \"\"\"\n",
        "    Gradio interface function that wraps the generate_headline() function.\n",
        "    \"\"\"\n",
        "    return generate_headline(article_text)\n",
        "\n",
        "# Updated Gradio interface\n",
        "demo = gr.Interface(\n",
        "    fn=gradio_generate,\n",
        "    inputs=gr.Textbox(lines=10, label=\"Input Article Text\"),\n",
        "    outputs=\"text\",\n",
        "    title=\"News Headline Generator\",\n",
        "    description=\"Enter a news article text to generate a concise headline.\"\n",
        ")\n",
        "\n",
        "# Launch the Gradio demo\n",
        "demo.launch(share=True)\n"
      ],
      "metadata": {
        "id": "NPdKznejm9rK",
        "colab": {
          "base_uri": "https://localhost:8080/",
          "height": 610
        },
        "outputId": "572b3cd4-e0d7-4ff0-a56d-6a3b2d9e4199"
      },
      "execution_count": 18,
      "outputs": [
        {
          "output_type": "stream",
          "name": "stdout",
          "text": [
            "Colab notebook detected. To show errors in colab notebook, set debug=True in launch()\n",
            "* Running on public URL: https://139c6efa6805d1fa98.gradio.live\n",
            "\n",
            "This share link expires in 72 hours. For free permanent hosting and GPU upgrades, run `gradio deploy` from the terminal in the working directory to deploy to Hugging Face Spaces (https://huggingface.co/spaces)\n"
          ]
        },
        {
          "output_type": "display_data",
          "data": {
            "text/plain": [
              "<IPython.core.display.HTML object>"
            ],
            "text/html": [
              "<div><iframe src=\"https://139c6efa6805d1fa98.gradio.live\" width=\"100%\" height=\"500\" allow=\"autoplay; camera; microphone; clipboard-read; clipboard-write;\" frameborder=\"0\" allowfullscreen></iframe></div>"
            ]
          },
          "metadata": {}
        },
        {
          "output_type": "execute_result",
          "data": {
            "text/plain": []
          },
          "metadata": {},
          "execution_count": 18
        }
      ]
    },
    {
      "cell_type": "code",
      "source": [],
      "metadata": {
        "id": "g__pw33E_VF0"
      },
      "execution_count": null,
      "outputs": []
    }
  ]
}